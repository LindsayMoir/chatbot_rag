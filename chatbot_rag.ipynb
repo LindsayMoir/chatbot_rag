{
 "cells": [
  {
   "cell_type": "markdown",
   "id": "124e5672",
   "metadata": {},
   "source": [
    "# Chatbot Using Retrieval Augmented Generation (RAG)"
   ]
  },
  {
   "cell_type": "markdown",
   "id": "2a4a94b3",
   "metadata": {},
   "source": [
    "I want an assistant that can tell me if the scientific information that I am receiving is current. ChatGPT3.5 is only trained to January 2022. So, anything past that, it will not have the information or ... it will lie:)"
   ]
  },
  {
   "cell_type": "markdown",
   "id": "34f1e0e9",
   "metadata": {},
   "source": [
    "## Import Libraries"
   ]
  },
  {
   "cell_type": "code",
   "execution_count": 41,
   "id": "05152566",
   "metadata": {},
   "outputs": [],
   "source": [
    "from scipy.spatial.distance import cosine\n",
    "import numpy as np\n",
    "from openai import OpenAI # for calling the OpenAI API\n",
    "import pandas as pd\n",
    "import pprint\n",
    "import re\n",
    "import requests\n",
    "import sys"
   ]
  },
  {
   "cell_type": "markdown",
   "id": "a63d4c5f",
   "metadata": {},
   "source": [
    "## Data Wrangling\n",
    "\n",
    "We will use Wikipedia as our source. Put the RAG text into a Pandas dataframe."
   ]
  },
  {
   "cell_type": "code",
   "execution_count": 42,
   "id": "e749c7c2",
   "metadata": {},
   "outputs": [
    {
     "data": {
      "text/plain": [
       "['2024 in science']"
      ]
     },
     "execution_count": 42,
     "metadata": {},
     "output_type": "execute_result"
    }
   ],
   "source": [
    "# I was originally going to do multiple topics, but decided to just do one\n",
    "topics = ['2024 in science']\n",
    "topics"
   ]
  },
  {
   "cell_type": "code",
   "execution_count": 43,
   "id": "c69b83a1",
   "metadata": {},
   "outputs": [],
   "source": [
    "def get_wikipedia_content(topic):\n",
    "    # Base URL of the Wikimedia API\n",
    "    base_url = \"https://en.wikipedia.org/w/api.php\"\n",
    "    \n",
    "    # Parameters for the API request\n",
    "    params = {\n",
    "        \"action\": \"query\",\n",
    "        \"format\": \"json\",\n",
    "        \"prop\": \"extracts\",\n",
    "        \"titles\": topic\n",
    "    }\n",
    "    \n",
    "    # Send a GET request to the Wikimedia API\n",
    "    response = requests.get(base_url, params=params)\\\n",
    "    \n",
    "    # Parse the JSON response\n",
    "    data = response.json()\n",
    "    \n",
    "    return data"
   ]
  },
  {
   "cell_type": "code",
   "execution_count": 44,
   "id": "96bf928b",
   "metadata": {},
   "outputs": [
    {
     "name": "stdout",
     "output_type": "stream",
     "text": [
      "{'batchcomplete': '',\n",
      " 'query': {'pages': {...}},\n",
      " 'warnings': {'extracts': {...}}}\n"
     ]
    }
   ],
   "source": [
    "# Example usage\n",
    "topic = topics[0]\n",
    "data = get_wikipedia_content(topic)\n",
    "\n",
    "# Create a PrettyPrinter object with desired configurations\n",
    "pp = pprint.PrettyPrinter(width=40, depth=2)\n",
    "\n",
    "# Print the data\n",
    "pp.pprint(data)"
   ]
  },
  {
   "cell_type": "code",
   "execution_count": 45,
   "id": "60d76354",
   "metadata": {},
   "outputs": [
    {
     "data": {
      "text/plain": [
       "'74041015'"
      ]
     },
     "execution_count": 45,
     "metadata": {},
     "output_type": "execute_result"
    }
   ],
   "source": [
    "# Extracting the key from the nested JSON object. We just want the first hit.\n",
    "# We will need this later.\n",
    "pages = data['query']['pages']\n",
    "page_key = list(pages.keys())[0]\n",
    "page_key"
   ]
  },
  {
   "cell_type": "code",
   "execution_count": 46,
   "id": "f8d5654c",
   "metadata": {},
   "outputs": [],
   "source": [
    "def extract_events(html):\n",
    "    events = {}\n",
    "    current_date = None\n",
    "\n",
    "    # Find all occurrences of dates in the format \"digit space Month\"\n",
    "    date_pattern = r'\\b(\\d{1,2}\\s(?:January|February|March|April|May|June|July|August|September|October|November|December))\\b'\n",
    "    dates = re.findall(date_pattern, html)\n",
    "    \n",
    "    # Define the pattern to match HTML tags\n",
    "    html_tags_pattern = re.compile(r'<.*?>')\n",
    "\n",
    "    for date in dates:\n",
    "        if current_date is not None:\n",
    "            current_event = []\n",
    "\n",
    "        current_date = date\n",
    "\n",
    "        # Find the text between two consecutive dates\n",
    "        event_pattern = re.escape(date) + r'(.*?)' + re.escape(dates[dates.index(date) + 1] if dates.index(date) < len(dates) - 1 else '')\n",
    "        event_text_match = re.search(event_pattern, html, re.DOTALL)\n",
    "        \n",
    "        # Where there are multiple events on a date split those into a list.\n",
    "        if event_text_match:\n",
    "            event_text = event_text_match.group(1)\n",
    "            if event_text.startswith('\\n<ul><li>'):\n",
    "                event_text_list = event_text.split('</li>')\n",
    "                cleaned_value = [remove_html_and_newlines(item) for item in event_text_list]\n",
    "                cleaned_value = [value for value in cleaned_value if value != '']  \n",
    "                event_text = cleaned_value\n",
    "            else:\n",
    "                event_text = [remove_html_and_newlines(event_text)]\n",
    "\n",
    "            events[current_date] = event_text\n",
    "\n",
    "    return events"
   ]
  },
  {
   "cell_type": "code",
   "execution_count": 47,
   "id": "490536ca",
   "metadata": {},
   "outputs": [],
   "source": [
    "def remove_html_and_newlines(text):\n",
    "    \n",
    "    # Remove HTML tags\n",
    "    cleaned_text = re.sub(r'<.*?>', '', text)\n",
    "    \n",
    "    # Remove newline characters\n",
    "    cleaned_text = cleaned_text.replace('\\n', '')\n",
    "    \n",
    "    # Remove any extra whitespace\n",
    "    cleaned_text = ' '.join(cleaned_text.split())\n",
    "    \n",
    "    return cleaned_text"
   ]
  },
  {
   "cell_type": "code",
   "execution_count": 48,
   "id": "7940ce31",
   "metadata": {},
   "outputs": [],
   "source": [
    "# Put into events_dict\n",
    "data = get_wikipedia_content(topics[0])\n",
    "\n",
    "# We just want the extract\n",
    "extract = data['query']['pages'][page_key]['extract']\n",
    "\n",
    "# Create the dictionary\n",
    "events_dict = extract_events(extract)"
   ]
  },
  {
   "cell_type": "code",
   "execution_count": 49,
   "id": "588d89d3",
   "metadata": {},
   "outputs": [
    {
     "data": {
      "text/plain": [
       "['– The first functional semiconductor made from graphene is created.']"
      ]
     },
     "execution_count": 49,
     "metadata": {},
     "output_type": "execute_result"
    }
   ],
   "source": [
    "# Check and see what they look like.\n",
    "events_dict['3 January']"
   ]
  },
  {
   "cell_type": "code",
   "execution_count": 50,
   "id": "8c976ed6",
   "metadata": {},
   "outputs": [
    {
     "name": "stdout",
     "output_type": "stream",
     "text": [
      "5\n"
     ]
    },
    {
     "data": {
      "text/plain": [
       "['Scientists report studies which seem to support the hypothesis that life may have begun in a shallow lake rather than otherwise - perhaps somewhat like a \"warm little pond\" originally proposed by Charles Darwin.',\n",
       " 'A group of scientists from around the globe have charted paradigm shifting restorative pathways to mitigate the worst effects of climate change and biodiversity loss with a strong emphasis on environmental sustainability, human wellbeing and reducing social and economic inequality.',\n",
       " 'Researchers have discovered a new phase of matter, named a \"light-matter hybrid\", which may reshape understanding of how light interacts with matter.',\n",
       " \"A study of proteins in cerebrospinal fluid indicates there are five subtypes of Alzheimer's disease, suggesting it to be likely that subtype-specific treatments are required.\",\n",
       " 'A study finds seaweed farming could be set up as a resilient food solution within roughly a year in abrupt sunlight reduction scenarios such as after a nuclear war or a large volcano eruption.']"
      ]
     },
     "execution_count": 50,
     "metadata": {},
     "output_type": "execute_result"
    }
   ],
   "source": [
    "# See what happens when there is more than one event on a date\n",
    "print(len(events_dict['9 January']))\n",
    "events_dict['9 January']"
   ]
  },
  {
   "cell_type": "code",
   "execution_count": 51,
   "id": "5f7c1b6f",
   "metadata": {},
   "outputs": [],
   "source": [
    "# Extracting all values from events_dict with keys prepended\n",
    "all_values = [f\"{key} {value}\" for key, values_list in events_dict.items() for value in values_list]\n",
    "length = len(all_values)"
   ]
  },
  {
   "cell_type": "code",
   "execution_count": 52,
   "id": "651a48d0",
   "metadata": {},
   "outputs": [
    {
     "data": {
      "text/html": [
       "<div>\n",
       "<style scoped>\n",
       "    .dataframe tbody tr th:only-of-type {\n",
       "        vertical-align: middle;\n",
       "    }\n",
       "\n",
       "    .dataframe tbody tr th {\n",
       "        vertical-align: top;\n",
       "    }\n",
       "\n",
       "    .dataframe thead th {\n",
       "        text-align: right;\n",
       "    }\n",
       "</style>\n",
       "<table border=\"1\" class=\"dataframe\">\n",
       "  <thead>\n",
       "    <tr style=\"text-align: right;\">\n",
       "      <th></th>\n",
       "      <th>text</th>\n",
       "    </tr>\n",
       "  </thead>\n",
       "  <tbody>\n",
       "    <tr>\n",
       "      <th>0</th>\n",
       "      <td>2 January – The Japan Meteorological Agency (J...</td>\n",
       "    </tr>\n",
       "    <tr>\n",
       "      <th>1</th>\n",
       "      <td>3 January – The first functional semiconductor...</td>\n",
       "    </tr>\n",
       "    <tr>\n",
       "      <th>2</th>\n",
       "      <td>4 January – A review indicates digital rectal ...</td>\n",
       "    </tr>\n",
       "    <tr>\n",
       "      <th>3</th>\n",
       "      <td>5 January Scientists report that newborn galax...</td>\n",
       "    </tr>\n",
       "    <tr>\n",
       "      <th>4</th>\n",
       "      <td>5 January An analysis of sugar-sweetened bever...</td>\n",
       "    </tr>\n",
       "    <tr>\n",
       "      <th>...</th>\n",
       "      <td>...</td>\n",
       "    </tr>\n",
       "    <tr>\n",
       "      <th>99</th>\n",
       "      <td>8 May Atmospheric gases surrounding 55 Cancri ...</td>\n",
       "    </tr>\n",
       "    <tr>\n",
       "      <th>100</th>\n",
       "      <td>9 May – A record annual increase in atmospheri...</td>\n",
       "    </tr>\n",
       "    <tr>\n",
       "      <th>101</th>\n",
       "      <td>10 May – A series of solar storms and intense ...</td>\n",
       "    </tr>\n",
       "    <tr>\n",
       "      <th>102</th>\n",
       "      <td>13 May – OpenAI reveals GPT-4o, its latest AI ...</td>\n",
       "    </tr>\n",
       "    <tr>\n",
       "      <th>103</th>\n",
       "      <td>15 May</td>\n",
       "    </tr>\n",
       "  </tbody>\n",
       "</table>\n",
       "<p>104 rows × 1 columns</p>\n",
       "</div>"
      ],
      "text/plain": [
       "                                                  text\n",
       "0    2 January – The Japan Meteorological Agency (J...\n",
       "1    3 January – The first functional semiconductor...\n",
       "2    4 January – A review indicates digital rectal ...\n",
       "3    5 January Scientists report that newborn galax...\n",
       "4    5 January An analysis of sugar-sweetened bever...\n",
       "..                                                 ...\n",
       "99   8 May Atmospheric gases surrounding 55 Cancri ...\n",
       "100  9 May – A record annual increase in atmospheri...\n",
       "101  10 May – A series of solar storms and intense ...\n",
       "102  13 May – OpenAI reveals GPT-4o, its latest AI ...\n",
       "103                                            15 May \n",
       "\n",
       "[104 rows x 1 columns]"
      ]
     },
     "execution_count": 52,
     "metadata": {},
     "output_type": "execute_result"
    }
   ],
   "source": [
    "# Create the dataframe to hold the text\n",
    "df = pd.DataFrame(data={'text': all_values}, index=range(length))\n",
    "df"
   ]
  },
  {
   "cell_type": "markdown",
   "id": "ae769871",
   "metadata": {},
   "source": [
    "## Custom Query Completion\n",
    "\n",
    "Get the embeddings for the text."
   ]
  },
  {
   "cell_type": "code",
   "execution_count": 53,
   "id": "582f0656",
   "metadata": {},
   "outputs": [
    {
     "data": {
      "text/plain": [
       "<openai.OpenAI at 0x22849e38410>"
      ]
     },
     "execution_count": 53,
     "metadata": {},
     "output_type": "execute_result"
    }
   ],
   "source": [
    "# Get OpenAI key\n",
    "open_ai_key = pd.read_csv('D:\\OneDrive\\Security\\keys.csv')\n",
    "open.ai_key = open_ai_key[open_ai_key['Organization'] == 'Open_AI']['Key'][0]\n",
    "\n",
    "client = OpenAI(api_key = open.ai_key)\n",
    "client"
   ]
  },
  {
   "cell_type": "code",
   "execution_count": 54,
   "id": "8b6e1f75",
   "metadata": {},
   "outputs": [],
   "source": [
    "def get_embedding(text_to_embed):\n",
    "    \"\"\"Get the embeddings for the text\"\"\"\n",
    "\n",
    "    response = client.embeddings.create(\n",
    "        model=\"text-embedding-ada-002\",\n",
    "        input=text_to_embed\n",
    "    )\n",
    "\n",
    "    return response"
   ]
  },
  {
   "cell_type": "code",
   "execution_count": 55,
   "id": "13f2dcd7",
   "metadata": {},
   "outputs": [
    {
     "name": "stdout",
     "output_type": "stream",
     "text": [
      "104\n"
     ]
    }
   ],
   "source": [
    "# Call the embeddings function\n",
    "response = get_embedding(df['text'].tolist())\n",
    "print(len(response.data))"
   ]
  },
  {
   "cell_type": "code",
   "execution_count": 56,
   "id": "74280b92",
   "metadata": {},
   "outputs": [
    {
     "data": {
      "text/html": [
       "<div>\n",
       "<style scoped>\n",
       "    .dataframe tbody tr th:only-of-type {\n",
       "        vertical-align: middle;\n",
       "    }\n",
       "\n",
       "    .dataframe tbody tr th {\n",
       "        vertical-align: top;\n",
       "    }\n",
       "\n",
       "    .dataframe thead th {\n",
       "        text-align: right;\n",
       "    }\n",
       "</style>\n",
       "<table border=\"1\" class=\"dataframe\">\n",
       "  <thead>\n",
       "    <tr style=\"text-align: right;\">\n",
       "      <th></th>\n",
       "      <th>text</th>\n",
       "      <th>embeddings</th>\n",
       "    </tr>\n",
       "  </thead>\n",
       "  <tbody>\n",
       "    <tr>\n",
       "      <th>0</th>\n",
       "      <td>2 January – The Japan Meteorological Agency (J...</td>\n",
       "      <td>Embedding(embedding=[-0.0031084921211004257, -...</td>\n",
       "    </tr>\n",
       "    <tr>\n",
       "      <th>1</th>\n",
       "      <td>3 January – The first functional semiconductor...</td>\n",
       "      <td>Embedding(embedding=[0.002213209867477417, 0.0...</td>\n",
       "    </tr>\n",
       "    <tr>\n",
       "      <th>2</th>\n",
       "      <td>4 January – A review indicates digital rectal ...</td>\n",
       "      <td>Embedding(embedding=[-0.023844994604587555, 0....</td>\n",
       "    </tr>\n",
       "    <tr>\n",
       "      <th>3</th>\n",
       "      <td>5 January Scientists report that newborn galax...</td>\n",
       "      <td>Embedding(embedding=[0.004181130789220333, 0.0...</td>\n",
       "    </tr>\n",
       "    <tr>\n",
       "      <th>4</th>\n",
       "      <td>5 January An analysis of sugar-sweetened bever...</td>\n",
       "      <td>Embedding(embedding=[0.005126591306179762, -0....</td>\n",
       "    </tr>\n",
       "    <tr>\n",
       "      <th>...</th>\n",
       "      <td>...</td>\n",
       "      <td>...</td>\n",
       "    </tr>\n",
       "    <tr>\n",
       "      <th>99</th>\n",
       "      <td>8 May Atmospheric gases surrounding 55 Cancri ...</td>\n",
       "      <td>Embedding(embedding=[0.011026425287127495, 0.0...</td>\n",
       "    </tr>\n",
       "    <tr>\n",
       "      <th>100</th>\n",
       "      <td>9 May – A record annual increase in atmospheri...</td>\n",
       "      <td>Embedding(embedding=[-0.006725318729877472, -0...</td>\n",
       "    </tr>\n",
       "    <tr>\n",
       "      <th>101</th>\n",
       "      <td>10 May – A series of solar storms and intense ...</td>\n",
       "      <td>Embedding(embedding=[-0.011253030970692635, -0...</td>\n",
       "    </tr>\n",
       "    <tr>\n",
       "      <th>102</th>\n",
       "      <td>13 May – OpenAI reveals GPT-4o, its latest AI ...</td>\n",
       "      <td>Embedding(embedding=[-0.022489018738269806, -0...</td>\n",
       "    </tr>\n",
       "    <tr>\n",
       "      <th>103</th>\n",
       "      <td>15 May</td>\n",
       "      <td>Embedding(embedding=[-0.024591531604528427, 0....</td>\n",
       "    </tr>\n",
       "  </tbody>\n",
       "</table>\n",
       "<p>104 rows × 2 columns</p>\n",
       "</div>"
      ],
      "text/plain": [
       "                                                  text  \\\n",
       "0    2 January – The Japan Meteorological Agency (J...   \n",
       "1    3 January – The first functional semiconductor...   \n",
       "2    4 January – A review indicates digital rectal ...   \n",
       "3    5 January Scientists report that newborn galax...   \n",
       "4    5 January An analysis of sugar-sweetened bever...   \n",
       "..                                                 ...   \n",
       "99   8 May Atmospheric gases surrounding 55 Cancri ...   \n",
       "100  9 May – A record annual increase in atmospheri...   \n",
       "101  10 May – A series of solar storms and intense ...   \n",
       "102  13 May – OpenAI reveals GPT-4o, its latest AI ...   \n",
       "103                                            15 May    \n",
       "\n",
       "                                            embeddings  \n",
       "0    Embedding(embedding=[-0.0031084921211004257, -...  \n",
       "1    Embedding(embedding=[0.002213209867477417, 0.0...  \n",
       "2    Embedding(embedding=[-0.023844994604587555, 0....  \n",
       "3    Embedding(embedding=[0.004181130789220333, 0.0...  \n",
       "4    Embedding(embedding=[0.005126591306179762, -0....  \n",
       "..                                                 ...  \n",
       "99   Embedding(embedding=[0.011026425287127495, 0.0...  \n",
       "100  Embedding(embedding=[-0.006725318729877472, -0...  \n",
       "101  Embedding(embedding=[-0.011253030970692635, -0...  \n",
       "102  Embedding(embedding=[-0.022489018738269806, -0...  \n",
       "103  Embedding(embedding=[-0.024591531604528427, 0....  \n",
       "\n",
       "[104 rows x 2 columns]"
      ]
     },
     "execution_count": 56,
     "metadata": {},
     "output_type": "execute_result"
    }
   ],
   "source": [
    "# Add the embeddings to the dataframe\n",
    "df['embeddings'] = response.data\n",
    "df"
   ]
  },
  {
   "cell_type": "code",
   "execution_count": 57,
   "id": "41a761aa",
   "metadata": {},
   "outputs": [
    {
     "data": {
      "text/plain": [
       "1536"
      ]
     },
     "execution_count": 57,
     "metadata": {},
     "output_type": "execute_result"
    }
   ],
   "source": [
    "# Check and make sure they are ok. You expect a length of 1536\n",
    "temp = df['embeddings'].iloc[0]\n",
    "len(temp.dict()['embedding'])"
   ]
  },
  {
   "cell_type": "code",
   "execution_count": 58,
   "id": "d658b076",
   "metadata": {},
   "outputs": [
    {
     "data": {
      "text/html": [
       "<div>\n",
       "<style scoped>\n",
       "    .dataframe tbody tr th:only-of-type {\n",
       "        vertical-align: middle;\n",
       "    }\n",
       "\n",
       "    .dataframe tbody tr th {\n",
       "        vertical-align: top;\n",
       "    }\n",
       "\n",
       "    .dataframe thead th {\n",
       "        text-align: right;\n",
       "    }\n",
       "</style>\n",
       "<table border=\"1\" class=\"dataframe\">\n",
       "  <thead>\n",
       "    <tr style=\"text-align: right;\">\n",
       "      <th></th>\n",
       "      <th>text</th>\n",
       "      <th>embeddings</th>\n",
       "    </tr>\n",
       "  </thead>\n",
       "  <tbody>\n",
       "    <tr>\n",
       "      <th>0</th>\n",
       "      <td>2 January – The Japan Meteorological Agency (J...</td>\n",
       "      <td>[-0.0031084921211004257, -0.0093239089474082, ...</td>\n",
       "    </tr>\n",
       "    <tr>\n",
       "      <th>1</th>\n",
       "      <td>3 January – The first functional semiconductor...</td>\n",
       "      <td>[0.002213209867477417, 0.012299963273108006, -...</td>\n",
       "    </tr>\n",
       "    <tr>\n",
       "      <th>2</th>\n",
       "      <td>4 January – A review indicates digital rectal ...</td>\n",
       "      <td>[-0.023844994604587555, 0.014986811205744743, ...</td>\n",
       "    </tr>\n",
       "    <tr>\n",
       "      <th>3</th>\n",
       "      <td>5 January Scientists report that newborn galax...</td>\n",
       "      <td>[0.004181130789220333, 0.002602208172902465, -...</td>\n",
       "    </tr>\n",
       "    <tr>\n",
       "      <th>4</th>\n",
       "      <td>5 January An analysis of sugar-sweetened bever...</td>\n",
       "      <td>[0.005126591306179762, -0.003509768983349204, ...</td>\n",
       "    </tr>\n",
       "    <tr>\n",
       "      <th>...</th>\n",
       "      <td>...</td>\n",
       "      <td>...</td>\n",
       "    </tr>\n",
       "    <tr>\n",
       "      <th>99</th>\n",
       "      <td>8 May Atmospheric gases surrounding 55 Cancri ...</td>\n",
       "      <td>[0.011026425287127495, 0.0053264908492565155, ...</td>\n",
       "    </tr>\n",
       "    <tr>\n",
       "      <th>100</th>\n",
       "      <td>9 May – A record annual increase in atmospheri...</td>\n",
       "      <td>[-0.006725318729877472, -0.0025702358689159155...</td>\n",
       "    </tr>\n",
       "    <tr>\n",
       "      <th>101</th>\n",
       "      <td>10 May – A series of solar storms and intense ...</td>\n",
       "      <td>[-0.011253030970692635, -0.009003724902868271,...</td>\n",
       "    </tr>\n",
       "    <tr>\n",
       "      <th>102</th>\n",
       "      <td>13 May – OpenAI reveals GPT-4o, its latest AI ...</td>\n",
       "      <td>[-0.022489018738269806, -0.010221049189567566,...</td>\n",
       "    </tr>\n",
       "    <tr>\n",
       "      <th>103</th>\n",
       "      <td>15 May</td>\n",
       "      <td>[-0.024591531604528427, 0.0054113478399813175,...</td>\n",
       "    </tr>\n",
       "  </tbody>\n",
       "</table>\n",
       "<p>104 rows × 2 columns</p>\n",
       "</div>"
      ],
      "text/plain": [
       "                                                  text  \\\n",
       "0    2 January – The Japan Meteorological Agency (J...   \n",
       "1    3 January – The first functional semiconductor...   \n",
       "2    4 January – A review indicates digital rectal ...   \n",
       "3    5 January Scientists report that newborn galax...   \n",
       "4    5 January An analysis of sugar-sweetened bever...   \n",
       "..                                                 ...   \n",
       "99   8 May Atmospheric gases surrounding 55 Cancri ...   \n",
       "100  9 May – A record annual increase in atmospheri...   \n",
       "101  10 May – A series of solar storms and intense ...   \n",
       "102  13 May – OpenAI reveals GPT-4o, its latest AI ...   \n",
       "103                                            15 May    \n",
       "\n",
       "                                            embeddings  \n",
       "0    [-0.0031084921211004257, -0.0093239089474082, ...  \n",
       "1    [0.002213209867477417, 0.012299963273108006, -...  \n",
       "2    [-0.023844994604587555, 0.014986811205744743, ...  \n",
       "3    [0.004181130789220333, 0.002602208172902465, -...  \n",
       "4    [0.005126591306179762, -0.003509768983349204, ...  \n",
       "..                                                 ...  \n",
       "99   [0.011026425287127495, 0.0053264908492565155, ...  \n",
       "100  [-0.006725318729877472, -0.0025702358689159155...  \n",
       "101  [-0.011253030970692635, -0.009003724902868271,...  \n",
       "102  [-0.022489018738269806, -0.010221049189567566,...  \n",
       "103  [-0.024591531604528427, 0.0054113478399813175,...  \n",
       "\n",
       "[104 rows x 2 columns]"
      ]
     },
     "execution_count": 58,
     "metadata": {},
     "output_type": "execute_result"
    }
   ],
   "source": [
    "# Get the embeddings from the object using the embedding attribute\n",
    "df['embeddings'] = df['embeddings'].apply(lambda x: x.embedding)\n",
    "df"
   ]
  },
  {
   "cell_type": "code",
   "execution_count": 59,
   "id": "43f351f2",
   "metadata": {},
   "outputs": [
    {
     "data": {
      "text/plain": [
       "1536"
      ]
     },
     "execution_count": 59,
     "metadata": {},
     "output_type": "execute_result"
    }
   ],
   "source": [
    "# Check and make sure that worked. Should get 1536\n",
    "len(df['embeddings'].iloc[0])"
   ]
  },
  {
   "cell_type": "code",
   "execution_count": 60,
   "id": "d8b0d81e",
   "metadata": {},
   "outputs": [],
   "source": [
    "# Sample question\n",
    "question = 'Where did life probably begin?'"
   ]
  },
  {
   "cell_type": "code",
   "execution_count": 61,
   "id": "5ebfedde",
   "metadata": {},
   "outputs": [],
   "source": [
    "def get_embeddings(question, df):\n",
    "    \n",
    "    # Get embedding for question from openai\n",
    "    \n",
    "    question_embeddings = client.embeddings.create(\n",
    "        input = question, \n",
    "        model = \"text-embedding-ada-002\").data[0].embedding\n",
    "    \n",
    "    return question_embeddings"
   ]
  },
  {
   "cell_type": "code",
   "execution_count": 62,
   "id": "127c001a",
   "metadata": {},
   "outputs": [],
   "source": [
    "def calc_cosign_similarity(question_embeddings, df):\n",
    "\n",
    "    # Calculate the cosign similarity between the question and the embeddings\n",
    "\n",
    "    # Convert 'embeddings' column to numpy array\n",
    "    embeddings_array = np.array(df['embeddings'].tolist())\n",
    "\n",
    "    # Calculate cosine similarity\n",
    "    cosine_sims = [cosine(question_embeddings, embedding) for embedding in embeddings_array]\n",
    "\n",
    "    # Assign the cosine similarity to a new column in the DataFrame\n",
    "    df['cosine_sims'] = cosine_sims\n",
    "\n",
    "    # Sort the DataFrame by 'cosine_sims' column in ascending order\n",
    "    df.sort_values('cosine_sims', inplace=True)\n",
    "\n",
    "    # Reset the index of the DataFrame\n",
    "    df.reset_index(inplace=True, drop=True)\n",
    "\n",
    "    return df['text'].iloc[0]"
   ]
  },
  {
   "cell_type": "code",
   "execution_count": 63,
   "id": "d1ca14d8",
   "metadata": {},
   "outputs": [
    {
     "name": "stdout",
     "output_type": "stream",
     "text": [
      "9 January Scientists report studies which seem to support the hypothesis that life may have begun in a shallow lake rather than otherwise - perhaps somewhat like a \"warm little pond\" originally proposed by Charles Darwin.\n"
     ]
    }
   ],
   "source": [
    "# Example usage\n",
    "question_embeddings = get_embeddings(question, df)\n",
    "answer = calc_cosign_similarity(question_embeddings, df)\n",
    "print(answer)"
   ]
  },
  {
   "cell_type": "markdown",
   "id": "8c99ef22",
   "metadata": {},
   "source": [
    "## Performance \n",
    "The purpose of this is to show the efficacy of RAG. I am going to pull out items from the pandas dataframe. Submit those to ChatGPT and have it return a question. Then I am going to use that question to see what the results are for the 3 different versions. \n",
    "\n",
    "- ChatGPT unassisted\n",
    "- Vector look up\n",
    "- ChatGPT assisted with RAG\n",
    "\n",
    "I could use input() and type the questions in but ... I hate typing and this is a far more interesting use of the technology. I could also, change the model that is generating the questions but ... that is for another day. "
   ]
  },
  {
   "cell_type": "code",
   "execution_count": 64,
   "id": "c1ba6956",
   "metadata": {},
   "outputs": [],
   "source": [
    "def chatgpt_answer(question):\n",
    "\n",
    "    # https://platform.openai.com/docs/guides/text-generation/chat-completions-api\n",
    "\n",
    "    # send a ChatCompletion request\n",
    "    response = client.chat.completions.create(\n",
    "        model = 'gpt-3.5-turbo',\n",
    "        messages = [\n",
    "            {'role': 'user', \n",
    "             'content': question}\n",
    "        ],\n",
    "        temperature = 0\n",
    "    )\n",
    "    \n",
    "    return response"
   ]
  },
  {
   "cell_type": "code",
   "execution_count": 65,
   "id": "6595e615",
   "metadata": {},
   "outputs": [],
   "source": [
    "def question_answer_comparison(question, df):   \n",
    "    \n",
    "    # Using vector look up\n",
    "    question_embeddings = get_embeddings(question, df)\n",
    "    answer = calc_cosign_similarity(question_embeddings, df)\n",
    "    print('\\n', 'Using cosine similarity\\n', answer)\n",
    "    \n",
    "    # GPT3 vanilla\n",
    "    response = chatgpt_answer(question)\n",
    "    print('\\nChatGPT3.5 Unassisted\\n', response.choices[0].message.content)\n",
    "    \n",
    "    # Using rag\n",
    "    question_embeddings = get_embeddings(question, df)\n",
    "    response = chatgpt_answer(rag_prompt(question, df))\n",
    "    print('\\nChatGPT3.5 with RAG\\n', response.choices[0].message.content)"
   ]
  },
  {
   "cell_type": "code",
   "execution_count": 66,
   "id": "ff4eec44",
   "metadata": {},
   "outputs": [],
   "source": [
    "def rag_prompt(question, df):\n",
    "    \"\"\"Ceate a prompt that has the content from the pandas df\"\"\"\n",
    "    \n",
    "    # Get the embeddings\n",
    "    question_embeddings = get_embeddings(question, df)\n",
    "    \n",
    "    # Get the text\n",
    "    text = calc_cosign_similarity(question_embeddings, df)\n",
    "    \n",
    "    # Create the prompt\n",
    "    message = f\"You are an experienced scientific researcher. {question} Please consider this \\\n",
    "information when formulating your response. Pay particular attention to the date. \\\n",
    "I am looking for the most recent information. The dates in this text are all 2024. {text}. \\\n",
    "Restrict your answer to ONLY what is in this text.\"\n",
    "    \n",
    "    # Get rid of extra spaces\n",
    "    message = message.strip(' ')\n",
    "    \n",
    "    return message"
   ]
  },
  {
   "cell_type": "code",
   "execution_count": 67,
   "id": "e4742e10",
   "metadata": {},
   "outputs": [],
   "source": [
    "def summarize_prompt(df):\n",
    "    \n",
    "    \"\"\"\n",
    "    input df - pandas dataframe\n",
    "    \n",
    "    Does the following:\n",
    "    Takes in the df. \n",
    "    Randomly selects a text item. \n",
    "    Creates a prompt from the text\n",
    "    Submits it to ChatGPT and asks it to summarize and turn it into a question.\n",
    "    \n",
    "    output question - str\n",
    "    \"\"\"\n",
    "    \n",
    "    # Get a random piece of txt\n",
    "    text = df.sample(1)['text'].iloc[0]\n",
    "    \n",
    "    # Create prompt\n",
    "    message = f\"You are an experienced scientific researcher. Formulate a Question based on this {text}. \\\n",
    "In the Question use at least some of these words 'who, when, where, how much, what quantity'.\"\n",
    "    \n",
    "    # Submit to ChatGPT\n",
    "    response = chatgpt_answer(message)\n",
    "    \n",
    "    # Just the response\n",
    "    question = response.choices[0].message.content\n",
    "    \n",
    "    # Just get the question\n",
    "    question = question.split('\\n\\n')[-1]\n",
    "    \n",
    "    return question"
   ]
  },
  {
   "cell_type": "markdown",
   "id": "acb2c1c4",
   "metadata": {},
   "source": [
    "### Questions"
   ]
  },
  {
   "cell_type": "code",
   "execution_count": 68,
   "id": "2ccd8062",
   "metadata": {},
   "outputs": [
    {
     "data": {
      "text/plain": [
       "['How much atmospheric gases surrounding 55 Cancri e, a hot rocky exoplanet 41 light-years from Earth, were detected by researchers using the James Webb Space Telescope, and who conducted the study?',\n",
       " 'Who are the scientists involved in charting the restorative pathways to mitigate the effects of climate change and biodiversity loss, and where are they located?',\n",
       " 'How many universities worldwide are failing to transition from fossil fuels to renewable energy curricula, and what is the impact on the demand for a clean energy workforce?',\n",
       " 'When and where was the northern green anaconda (Eunectes akayima) discovered and how much is known about its population size and distribution?',\n",
       " \"How much variation is there in the distribution of the five subtypes of Alzheimer's disease in different populations, and where are these subtypes most prevalent?\"]"
      ]
     },
     "execution_count": 68,
     "metadata": {},
     "output_type": "execute_result"
    }
   ],
   "source": [
    "# Lets ask some questions\n",
    "questions_list = [summarize_prompt(df) for _ in range(5)]\n",
    "questions_list"
   ]
  },
  {
   "cell_type": "code",
   "execution_count": null,
   "id": "2a44b6ba",
   "metadata": {
    "scrolled": false
   },
   "outputs": [
    {
     "name": "stdout",
     "output_type": "stream",
     "text": [
      "1 \n",
      " How much atmospheric gases surrounding 55 Cancri e, a hot rocky exoplanet 41 light-years from Earth, were detected by researchers using the James Webb Space Telescope, and who conducted the study?\n",
      "\n",
      " Using cosine similarity\n",
      " 8 May Atmospheric gases surrounding 55 Cancri e, a hot rocky exoplanet 41 light-years from Earth, are detected by researchers using the James Webb Space Telescope. NASA reports this as \"the best evidence to date for the existence of any rocky planet atmosphere outside our solar system.\"\n",
      "\n",
      "ChatGPT3.5 Unassisted\n",
      " Researchers using the James Webb Space Telescope detected the presence of hydrogen and helium in the atmosphere of 55 Cancri e. The study was conducted by a team of astronomers led by Angelos Tsiaras from University College London.\n",
      "\n",
      "ChatGPT3.5 with RAG\n",
      " Researchers using the James Webb Space Telescope detected atmospheric gases surrounding 55 Cancri e on 8 May 2024. NASA reported this as \"the best evidence to date for the existence of any rocky planet atmosphere outside our solar system.\"\n",
      "None \n",
      "#########\n",
      "\n",
      "2 \n",
      " Who are the scientists involved in charting the restorative pathways to mitigate the effects of climate change and biodiversity loss, and where are they located?\n",
      "\n",
      " Using cosine similarity\n",
      " 9 January A group of scientists from around the globe have charted paradigm shifting restorative pathways to mitigate the worst effects of climate change and biodiversity loss with a strong emphasis on environmental sustainability, human wellbeing and reducing social and economic inequality.\n",
      "\n",
      "ChatGPT3.5 Unassisted\n",
      " There are many scientists and researchers around the world who are involved in studying and developing restorative pathways to mitigate the effects of climate change and biodiversity loss. Some of the key institutions and organizations involved in this work include:\n",
      "\n",
      "1. The Intergovernmental Panel on Climate Change (IPCC) - a scientific body under the United Nations that assesses the science related to climate change and provides policymakers with regular assessments of the scientific basis of climate change.\n",
      "\n",
      "2. The World Wildlife Fund (WWF) - an international non-governmental organization working in the field of wilderness preservation and the reduction of human impact on the environment.\n",
      "\n",
      "3. The Nature Conservancy - a global environmental nonprofit organization working to create a world where people and nature can thrive.\n",
      "\n",
      "4. The United Nations Environment Programme (UNEP) - the leading global environmental authority that sets the global environmental agenda, promotes the coherent implementation of the environmental dimension of sustainable development within the United Nations system, and serves as an authoritative advocate for the global environment.\n",
      "\n",
      "5. The Center for Biological Diversity - a nonprofit organization dedicated to the protection of endangered species and wild places.\n",
      "\n",
      "These organizations work with scientists and researchers from around the world, including those located at universities, research institutions, and government agencies. Some of the key locations where these scientists are based include the United States, Europe, Australia, and various countries in Asia and Africa.\n",
      "\n",
      "ChatGPT3.5 with RAG\n",
      " The scientists involved in charting restorative pathways to mitigate the effects of climate change and biodiversity loss are from around the globe. They are located in various countries and regions worldwide.\n",
      "None \n",
      "#########\n",
      "\n",
      "3 \n",
      " How many universities worldwide are failing to transition from fossil fuels to renewable energy curricula, and what is the impact on the demand for a clean energy workforce?\n",
      "\n",
      " Using cosine similarity\n",
      " 14 February – A study reviews educational content of 18,400 universities worldwide, finding higher education is not transitioning from fossil fuels to renewable energy curricula, failing to meet the growing demand for a clean energy workforce. On\n",
      "\n",
      "ChatGPT3.5 Unassisted\n",
      " It is difficult to provide an exact number of universities worldwide that are failing to transition from fossil fuels to renewable energy curricula. However, it is clear that there are still many universities that have not fully embraced renewable energy education and training programs.\n",
      "\n",
      "The impact of this lack of transition on the demand for a clean energy workforce is significant. As the world continues to shift towards renewable energy sources, there is a growing demand for skilled workers in the clean energy sector. Without adequate education and training programs in place at universities, there is a risk of a shortage of qualified professionals to meet this demand.\n",
      "\n",
      "Furthermore, universities play a crucial role in shaping the future workforce and driving innovation in the clean energy sector. By failing to transition to renewable energy curricula, universities are missing out on the opportunity to prepare students for careers in this rapidly growing industry and contribute to the development of sustainable energy solutions. This not only hinders the growth of the clean energy workforce but also slows down the transition to a more sustainable energy system overall.\n",
      "\n",
      "ChatGPT3.5 with RAG\n",
      " According to the study conducted on 14 February 2024, it was found that higher education institutions worldwide, including 18,400 universities, are failing to transition from fossil fuels to renewable energy curricula. This failure to adapt to the growing demand for a clean energy workforce is likely to have a significant impact on the availability of skilled professionals in the renewable energy sector.\n",
      "None \n",
      "#########\n",
      "\n",
      "4 \n",
      " When and where was the northern green anaconda (Eunectes akayima) discovered and how much is known about its population size and distribution?\n",
      "\n",
      " Using cosine similarity\n",
      " 20 February – The northern green anaconda (Eunectes akayima), a new species of the giant snake, is described for the first time.\n",
      "\n",
      "ChatGPT3.5 Unassisted\n",
      " The northern green anaconda (Eunectes akayima) was discovered in 2021 in the Guiana Shield region of South America, specifically in the Rupununi region of Guyana. This new species was identified through genetic analysis and morphological differences from the more well-known green anaconda (Eunectes murinus).\n",
      "\n",
      "As this species was only recently discovered, there is limited information available about its population size and distribution. Further research and surveys will be needed to determine the extent of its range and population numbers.\n"
     ]
    }
   ],
   "source": [
    "for idx, question in enumerate(questions_list):\n",
    "    print(idx + 1, '\\n', question)\n",
    "    print(question_answer_comparison(question, df), '\\n#########\\n')"
   ]
  },
  {
   "cell_type": "markdown",
   "id": "47d43421",
   "metadata": {},
   "source": [
    "## Conclusions\n",
    "ChatGPT unassisted is amazingly good at lying. When it does not know the answer, it simply dreams something up. Since, ChatGPT is  so good at lying and it is trained on a large corpus, some of its \"lies\" may actually be truths. Just because it happened sometime on or before January 2022 does not mean it is not true today. It still could be true and part of a valid response. \n",
    "\n",
    "When I asked ChatGPT with RAG to restrict its answers to the input text it did not lie anymore and ws very accurate. I ran this code several times and on average ChatGPT 3.5 Unassisted got ~ 30% wrong. That is almost certainly a problem for most Chatbot applications. ChatGPT 3.5 With RAG was always correct but ... could not answer the question completely sometimes because the question posed by ChatGPT 3.5 Unassisted wanted information that was not in the RAG prompt. This was not common but did happen. \n",
    "\n",
    "When giving the LLM context, I did not return more than one result with this implementation. It is common to return the top several results to give the Large Language Model (LLM) more to work with. Since the sample size was so small and the individual pieces of information on the page were not expected to be closesly related, this is fine. However, depending on the application this may not be and would probably require some more prompt engineering to make sure that the application performed consistently well. "
   ]
  },
  {
   "cell_type": "code",
   "execution_count": null,
   "id": "d79200ab",
   "metadata": {},
   "outputs": [],
   "source": []
  }
 ],
 "metadata": {
  "kernelspec": {
   "display_name": "genai",
   "language": "python",
   "name": "genai"
  },
  "language_info": {
   "codemirror_mode": {
    "name": "ipython",
    "version": 3
   },
   "file_extension": ".py",
   "mimetype": "text/x-python",
   "name": "python",
   "nbconvert_exporter": "python",
   "pygments_lexer": "ipython3",
   "version": "3.11.7"
  },
  "toc": {
   "base_numbering": 1,
   "nav_menu": {},
   "number_sections": true,
   "sideBar": true,
   "skip_h1_title": false,
   "title_cell": "Table of Contents",
   "title_sidebar": "Contents",
   "toc_cell": false,
   "toc_position": {
    "height": "calc(100% - 180px)",
    "left": "10px",
    "top": "150px",
    "width": "333.474px"
   },
   "toc_section_display": true,
   "toc_window_display": true
  }
 },
 "nbformat": 4,
 "nbformat_minor": 5
}
